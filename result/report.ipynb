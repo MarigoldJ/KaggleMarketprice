{
 "cells": [
  {
   "cell_type": "code",
   "execution_count": 1,
   "source": [
    "import pandas as pd\r\n",
    "import numpy as np \r\n",
    "import matplotlib.pyplot as plt"
   ],
   "outputs": [],
   "metadata": {}
  },
  {
   "cell_type": "markdown",
   "source": [
    "# 예측 결과"
   ],
   "metadata": {}
  },
  {
   "cell_type": "code",
   "execution_count": 2,
   "source": [
    "# Kaggle score : 1.64066\r\n",
    "result = pd.read_csv('final_result3.csv', index_col=None)\r\n",
    "result"
   ],
   "outputs": [
    {
     "output_type": "execute_result",
     "data": {
      "text/plain": [
       "            ID  item_cnt_month\n",
       "0            0        2.204241\n",
       "1            1        0.000000\n",
       "2            2        2.122234\n",
       "3            3        0.000000\n",
       "4            4        0.000000\n",
       "...        ...             ...\n",
       "214195  214195        0.000000\n",
       "214196  214196        0.000000\n",
       "214197  214197        1.609001\n",
       "214198  214198        0.000000\n",
       "214199  214199        0.000000\n",
       "\n",
       "[214200 rows x 2 columns]"
      ],
      "text/html": [
       "<div>\n",
       "<style scoped>\n",
       "    .dataframe tbody tr th:only-of-type {\n",
       "        vertical-align: middle;\n",
       "    }\n",
       "\n",
       "    .dataframe tbody tr th {\n",
       "        vertical-align: top;\n",
       "    }\n",
       "\n",
       "    .dataframe thead th {\n",
       "        text-align: right;\n",
       "    }\n",
       "</style>\n",
       "<table border=\"1\" class=\"dataframe\">\n",
       "  <thead>\n",
       "    <tr style=\"text-align: right;\">\n",
       "      <th></th>\n",
       "      <th>ID</th>\n",
       "      <th>item_cnt_month</th>\n",
       "    </tr>\n",
       "  </thead>\n",
       "  <tbody>\n",
       "    <tr>\n",
       "      <th>0</th>\n",
       "      <td>0</td>\n",
       "      <td>2.204241</td>\n",
       "    </tr>\n",
       "    <tr>\n",
       "      <th>1</th>\n",
       "      <td>1</td>\n",
       "      <td>0.000000</td>\n",
       "    </tr>\n",
       "    <tr>\n",
       "      <th>2</th>\n",
       "      <td>2</td>\n",
       "      <td>2.122234</td>\n",
       "    </tr>\n",
       "    <tr>\n",
       "      <th>3</th>\n",
       "      <td>3</td>\n",
       "      <td>0.000000</td>\n",
       "    </tr>\n",
       "    <tr>\n",
       "      <th>4</th>\n",
       "      <td>4</td>\n",
       "      <td>0.000000</td>\n",
       "    </tr>\n",
       "    <tr>\n",
       "      <th>...</th>\n",
       "      <td>...</td>\n",
       "      <td>...</td>\n",
       "    </tr>\n",
       "    <tr>\n",
       "      <th>214195</th>\n",
       "      <td>214195</td>\n",
       "      <td>0.000000</td>\n",
       "    </tr>\n",
       "    <tr>\n",
       "      <th>214196</th>\n",
       "      <td>214196</td>\n",
       "      <td>0.000000</td>\n",
       "    </tr>\n",
       "    <tr>\n",
       "      <th>214197</th>\n",
       "      <td>214197</td>\n",
       "      <td>1.609001</td>\n",
       "    </tr>\n",
       "    <tr>\n",
       "      <th>214198</th>\n",
       "      <td>214198</td>\n",
       "      <td>0.000000</td>\n",
       "    </tr>\n",
       "    <tr>\n",
       "      <th>214199</th>\n",
       "      <td>214199</td>\n",
       "      <td>0.000000</td>\n",
       "    </tr>\n",
       "  </tbody>\n",
       "</table>\n",
       "<p>214200 rows × 2 columns</p>\n",
       "</div>"
      ]
     },
     "metadata": {},
     "execution_count": 2
    }
   ],
   "metadata": {}
  },
  {
   "cell_type": "markdown",
   "source": [
    "# EDA "
   ],
   "metadata": {}
  },
  {
   "cell_type": "markdown",
   "source": [
    "### 자료 가져오기\n",
    "- item_categories: 아이템 명칭에 따른 번호 부여\n",
    "- items: 아이템 품목별 item_category_id\n",
    "- sales_train: 날짜, 월별 인덱스, shop_id, item_id, item_price, item_cnt_day(-1의미?)\n",
    "- shops: 가게 이름\n",
    "- test: ID = shop_id + item_id\n",
    "---\n",
    "### 개선 사항 및 추가 설명\n",
    "- sales_train에 ID, item_category_id 추가할것\n",
    "- 월별 인덱스: 2013(0 ~ 11), 2014(12 ~ 23), 2015(24 ~ 33 -> predict 34)"
   ],
   "metadata": {}
  },
  {
   "cell_type": "code",
   "execution_count": 3,
   "source": [
    "item_categories = pd.read_csv('item_categories.csv')"
   ],
   "outputs": [],
   "metadata": {}
  },
  {
   "cell_type": "code",
   "execution_count": 4,
   "source": [
    "item_categories.head()"
   ],
   "outputs": [
    {
     "output_type": "execute_result",
     "data": {
      "text/plain": [
       "        item_category_name  item_category_id\n",
       "0  PC - Гарнитуры/Наушники                 0\n",
       "1         Аксессуары - PS2                 1\n",
       "2         Аксессуары - PS3                 2\n",
       "3         Аксессуары - PS4                 3\n",
       "4         Аксессуары - PSP                 4"
      ],
      "text/html": [
       "<div>\n",
       "<style scoped>\n",
       "    .dataframe tbody tr th:only-of-type {\n",
       "        vertical-align: middle;\n",
       "    }\n",
       "\n",
       "    .dataframe tbody tr th {\n",
       "        vertical-align: top;\n",
       "    }\n",
       "\n",
       "    .dataframe thead th {\n",
       "        text-align: right;\n",
       "    }\n",
       "</style>\n",
       "<table border=\"1\" class=\"dataframe\">\n",
       "  <thead>\n",
       "    <tr style=\"text-align: right;\">\n",
       "      <th></th>\n",
       "      <th>item_category_name</th>\n",
       "      <th>item_category_id</th>\n",
       "    </tr>\n",
       "  </thead>\n",
       "  <tbody>\n",
       "    <tr>\n",
       "      <th>0</th>\n",
       "      <td>PC - Гарнитуры/Наушники</td>\n",
       "      <td>0</td>\n",
       "    </tr>\n",
       "    <tr>\n",
       "      <th>1</th>\n",
       "      <td>Аксессуары - PS2</td>\n",
       "      <td>1</td>\n",
       "    </tr>\n",
       "    <tr>\n",
       "      <th>2</th>\n",
       "      <td>Аксессуары - PS3</td>\n",
       "      <td>2</td>\n",
       "    </tr>\n",
       "    <tr>\n",
       "      <th>3</th>\n",
       "      <td>Аксессуары - PS4</td>\n",
       "      <td>3</td>\n",
       "    </tr>\n",
       "    <tr>\n",
       "      <th>4</th>\n",
       "      <td>Аксессуары - PSP</td>\n",
       "      <td>4</td>\n",
       "    </tr>\n",
       "  </tbody>\n",
       "</table>\n",
       "</div>"
      ]
     },
     "metadata": {},
     "execution_count": 4
    }
   ],
   "metadata": {}
  },
  {
   "cell_type": "code",
   "execution_count": 5,
   "source": [
    "items = pd.read_csv('items.csv')"
   ],
   "outputs": [],
   "metadata": {}
  },
  {
   "cell_type": "code",
   "execution_count": 6,
   "source": [
    "items.head()"
   ],
   "outputs": [
    {
     "output_type": "execute_result",
     "data": {
      "text/plain": [
       "                                           item_name  item_id  \\\n",
       "0          ! ВО ВЛАСТИ НАВАЖДЕНИЯ (ПЛАСТ.)         D        0   \n",
       "1  !ABBYY FineReader 12 Professional Edition Full...        1   \n",
       "2      ***В ЛУЧАХ СЛАВЫ   (UNV)                    D        2   \n",
       "3    ***ГОЛУБАЯ ВОЛНА  (Univ)                      D        3   \n",
       "4        ***КОРОБКА (СТЕКЛО)                       D        4   \n",
       "\n",
       "   item_category_id  \n",
       "0                40  \n",
       "1                76  \n",
       "2                40  \n",
       "3                40  \n",
       "4                40  "
      ],
      "text/html": [
       "<div>\n",
       "<style scoped>\n",
       "    .dataframe tbody tr th:only-of-type {\n",
       "        vertical-align: middle;\n",
       "    }\n",
       "\n",
       "    .dataframe tbody tr th {\n",
       "        vertical-align: top;\n",
       "    }\n",
       "\n",
       "    .dataframe thead th {\n",
       "        text-align: right;\n",
       "    }\n",
       "</style>\n",
       "<table border=\"1\" class=\"dataframe\">\n",
       "  <thead>\n",
       "    <tr style=\"text-align: right;\">\n",
       "      <th></th>\n",
       "      <th>item_name</th>\n",
       "      <th>item_id</th>\n",
       "      <th>item_category_id</th>\n",
       "    </tr>\n",
       "  </thead>\n",
       "  <tbody>\n",
       "    <tr>\n",
       "      <th>0</th>\n",
       "      <td>! ВО ВЛАСТИ НАВАЖДЕНИЯ (ПЛАСТ.)         D</td>\n",
       "      <td>0</td>\n",
       "      <td>40</td>\n",
       "    </tr>\n",
       "    <tr>\n",
       "      <th>1</th>\n",
       "      <td>!ABBYY FineReader 12 Professional Edition Full...</td>\n",
       "      <td>1</td>\n",
       "      <td>76</td>\n",
       "    </tr>\n",
       "    <tr>\n",
       "      <th>2</th>\n",
       "      <td>***В ЛУЧАХ СЛАВЫ   (UNV)                    D</td>\n",
       "      <td>2</td>\n",
       "      <td>40</td>\n",
       "    </tr>\n",
       "    <tr>\n",
       "      <th>3</th>\n",
       "      <td>***ГОЛУБАЯ ВОЛНА  (Univ)                      D</td>\n",
       "      <td>3</td>\n",
       "      <td>40</td>\n",
       "    </tr>\n",
       "    <tr>\n",
       "      <th>4</th>\n",
       "      <td>***КОРОБКА (СТЕКЛО)                       D</td>\n",
       "      <td>4</td>\n",
       "      <td>40</td>\n",
       "    </tr>\n",
       "  </tbody>\n",
       "</table>\n",
       "</div>"
      ]
     },
     "metadata": {},
     "execution_count": 6
    }
   ],
   "metadata": {}
  },
  {
   "cell_type": "code",
   "execution_count": 7,
   "source": [
    "sales_train = pd.read_csv('sales_train.csv')"
   ],
   "outputs": [],
   "metadata": {}
  },
  {
   "cell_type": "code",
   "execution_count": 8,
   "source": [
    "sales_train.head()"
   ],
   "outputs": [
    {
     "output_type": "execute_result",
     "data": {
      "text/plain": [
       "         date  date_block_num  shop_id  item_id  item_price  item_cnt_day\n",
       "0  02.01.2013               0       59    22154      999.00           1.0\n",
       "1  03.01.2013               0       25     2552      899.00           1.0\n",
       "2  05.01.2013               0       25     2552      899.00          -1.0\n",
       "3  06.01.2013               0       25     2554     1709.05           1.0\n",
       "4  15.01.2013               0       25     2555     1099.00           1.0"
      ],
      "text/html": [
       "<div>\n",
       "<style scoped>\n",
       "    .dataframe tbody tr th:only-of-type {\n",
       "        vertical-align: middle;\n",
       "    }\n",
       "\n",
       "    .dataframe tbody tr th {\n",
       "        vertical-align: top;\n",
       "    }\n",
       "\n",
       "    .dataframe thead th {\n",
       "        text-align: right;\n",
       "    }\n",
       "</style>\n",
       "<table border=\"1\" class=\"dataframe\">\n",
       "  <thead>\n",
       "    <tr style=\"text-align: right;\">\n",
       "      <th></th>\n",
       "      <th>date</th>\n",
       "      <th>date_block_num</th>\n",
       "      <th>shop_id</th>\n",
       "      <th>item_id</th>\n",
       "      <th>item_price</th>\n",
       "      <th>item_cnt_day</th>\n",
       "    </tr>\n",
       "  </thead>\n",
       "  <tbody>\n",
       "    <tr>\n",
       "      <th>0</th>\n",
       "      <td>02.01.2013</td>\n",
       "      <td>0</td>\n",
       "      <td>59</td>\n",
       "      <td>22154</td>\n",
       "      <td>999.00</td>\n",
       "      <td>1.0</td>\n",
       "    </tr>\n",
       "    <tr>\n",
       "      <th>1</th>\n",
       "      <td>03.01.2013</td>\n",
       "      <td>0</td>\n",
       "      <td>25</td>\n",
       "      <td>2552</td>\n",
       "      <td>899.00</td>\n",
       "      <td>1.0</td>\n",
       "    </tr>\n",
       "    <tr>\n",
       "      <th>2</th>\n",
       "      <td>05.01.2013</td>\n",
       "      <td>0</td>\n",
       "      <td>25</td>\n",
       "      <td>2552</td>\n",
       "      <td>899.00</td>\n",
       "      <td>-1.0</td>\n",
       "    </tr>\n",
       "    <tr>\n",
       "      <th>3</th>\n",
       "      <td>06.01.2013</td>\n",
       "      <td>0</td>\n",
       "      <td>25</td>\n",
       "      <td>2554</td>\n",
       "      <td>1709.05</td>\n",
       "      <td>1.0</td>\n",
       "    </tr>\n",
       "    <tr>\n",
       "      <th>4</th>\n",
       "      <td>15.01.2013</td>\n",
       "      <td>0</td>\n",
       "      <td>25</td>\n",
       "      <td>2555</td>\n",
       "      <td>1099.00</td>\n",
       "      <td>1.0</td>\n",
       "    </tr>\n",
       "  </tbody>\n",
       "</table>\n",
       "</div>"
      ]
     },
     "metadata": {},
     "execution_count": 8
    }
   ],
   "metadata": {
    "scrolled": true
   }
  },
  {
   "cell_type": "code",
   "execution_count": 9,
   "source": [
    "shops = pd.read_csv('shops.csv')"
   ],
   "outputs": [],
   "metadata": {}
  },
  {
   "cell_type": "code",
   "execution_count": 10,
   "source": [
    "shops.head()"
   ],
   "outputs": [
    {
     "output_type": "execute_result",
     "data": {
      "text/plain": [
       "                        shop_name  shop_id\n",
       "0   !Якутск Орджоникидзе, 56 фран        0\n",
       "1   !Якутск ТЦ \"Центральный\" фран        1\n",
       "2                Адыгея ТЦ \"Мега\"        2\n",
       "3  Балашиха ТРК \"Октябрь-Киномир\"        3\n",
       "4        Волжский ТЦ \"Волга Молл\"        4"
      ],
      "text/html": [
       "<div>\n",
       "<style scoped>\n",
       "    .dataframe tbody tr th:only-of-type {\n",
       "        vertical-align: middle;\n",
       "    }\n",
       "\n",
       "    .dataframe tbody tr th {\n",
       "        vertical-align: top;\n",
       "    }\n",
       "\n",
       "    .dataframe thead th {\n",
       "        text-align: right;\n",
       "    }\n",
       "</style>\n",
       "<table border=\"1\" class=\"dataframe\">\n",
       "  <thead>\n",
       "    <tr style=\"text-align: right;\">\n",
       "      <th></th>\n",
       "      <th>shop_name</th>\n",
       "      <th>shop_id</th>\n",
       "    </tr>\n",
       "  </thead>\n",
       "  <tbody>\n",
       "    <tr>\n",
       "      <th>0</th>\n",
       "      <td>!Якутск Орджоникидзе, 56 фран</td>\n",
       "      <td>0</td>\n",
       "    </tr>\n",
       "    <tr>\n",
       "      <th>1</th>\n",
       "      <td>!Якутск ТЦ \"Центральный\" фран</td>\n",
       "      <td>1</td>\n",
       "    </tr>\n",
       "    <tr>\n",
       "      <th>2</th>\n",
       "      <td>Адыгея ТЦ \"Мега\"</td>\n",
       "      <td>2</td>\n",
       "    </tr>\n",
       "    <tr>\n",
       "      <th>3</th>\n",
       "      <td>Балашиха ТРК \"Октябрь-Киномир\"</td>\n",
       "      <td>3</td>\n",
       "    </tr>\n",
       "    <tr>\n",
       "      <th>4</th>\n",
       "      <td>Волжский ТЦ \"Волга Молл\"</td>\n",
       "      <td>4</td>\n",
       "    </tr>\n",
       "  </tbody>\n",
       "</table>\n",
       "</div>"
      ]
     },
     "metadata": {},
     "execution_count": 10
    }
   ],
   "metadata": {
    "scrolled": true
   }
  },
  {
   "cell_type": "code",
   "execution_count": 11,
   "source": [
    "test = pd.read_csv('test.csv')"
   ],
   "outputs": [],
   "metadata": {}
  },
  {
   "cell_type": "code",
   "execution_count": 12,
   "source": [
    "test.head()"
   ],
   "outputs": [
    {
     "output_type": "execute_result",
     "data": {
      "text/plain": [
       "   ID  shop_id  item_id\n",
       "0   0        5     5037\n",
       "1   1        5     5320\n",
       "2   2        5     5233\n",
       "3   3        5     5232\n",
       "4   4        5     5268"
      ],
      "text/html": [
       "<div>\n",
       "<style scoped>\n",
       "    .dataframe tbody tr th:only-of-type {\n",
       "        vertical-align: middle;\n",
       "    }\n",
       "\n",
       "    .dataframe tbody tr th {\n",
       "        vertical-align: top;\n",
       "    }\n",
       "\n",
       "    .dataframe thead th {\n",
       "        text-align: right;\n",
       "    }\n",
       "</style>\n",
       "<table border=\"1\" class=\"dataframe\">\n",
       "  <thead>\n",
       "    <tr style=\"text-align: right;\">\n",
       "      <th></th>\n",
       "      <th>ID</th>\n",
       "      <th>shop_id</th>\n",
       "      <th>item_id</th>\n",
       "    </tr>\n",
       "  </thead>\n",
       "  <tbody>\n",
       "    <tr>\n",
       "      <th>0</th>\n",
       "      <td>0</td>\n",
       "      <td>5</td>\n",
       "      <td>5037</td>\n",
       "    </tr>\n",
       "    <tr>\n",
       "      <th>1</th>\n",
       "      <td>1</td>\n",
       "      <td>5</td>\n",
       "      <td>5320</td>\n",
       "    </tr>\n",
       "    <tr>\n",
       "      <th>2</th>\n",
       "      <td>2</td>\n",
       "      <td>5</td>\n",
       "      <td>5233</td>\n",
       "    </tr>\n",
       "    <tr>\n",
       "      <th>3</th>\n",
       "      <td>3</td>\n",
       "      <td>5</td>\n",
       "      <td>5232</td>\n",
       "    </tr>\n",
       "    <tr>\n",
       "      <th>4</th>\n",
       "      <td>4</td>\n",
       "      <td>5</td>\n",
       "      <td>5268</td>\n",
       "    </tr>\n",
       "  </tbody>\n",
       "</table>\n",
       "</div>"
      ]
     },
     "metadata": {},
     "execution_count": 12
    }
   ],
   "metadata": {
    "scrolled": true
   }
  },
  {
   "cell_type": "code",
   "execution_count": 13,
   "source": [
    "test.groupby('shop_id')"
   ],
   "outputs": [
    {
     "output_type": "execute_result",
     "data": {
      "text/plain": [
       "<pandas.core.groupby.generic.DataFrameGroupBy object at 0x00000248E70329A0>"
      ]
     },
     "metadata": {},
     "execution_count": 13
    }
   ],
   "metadata": {}
  },
  {
   "cell_type": "code",
   "execution_count": 14,
   "source": [
    "df = sales_train.copy()\r\n",
    "\r\n",
    "df['date'] = df['date'].apply(lambda x: x[-4:]+x[3:5]+x[:2])\r\n",
    "df['date'] = pd.to_datetime(df['date'])\r\n",
    "df = pd.merge(df, test, how='left', on=['shop_id', 'item_id'])\r\n",
    "df.dropna(axis=0, inplace=True)\r\n",
    "df['ID'] = df['ID'].astype('int')\r\n",
    "\r\n",
    "df = pd.merge(df, items[['item_id', 'item_category_id']], how='left', on=['item_id'])\r\n",
    "df['item_cnt_day'] = df['item_cnt_day'].astype('int')\r\n",
    "\r\n"
   ],
   "outputs": [],
   "metadata": {}
  },
  {
   "cell_type": "code",
   "execution_count": 15,
   "source": [
    "df['weeks'] = df['date'].dt.weekday"
   ],
   "outputs": [],
   "metadata": {}
  },
  {
   "cell_type": "code",
   "execution_count": 16,
   "source": [
    "df.head()"
   ],
   "outputs": [
    {
     "output_type": "execute_result",
     "data": {
      "text/plain": [
       "        date  date_block_num  shop_id  item_id  item_price  item_cnt_day  \\\n",
       "0 2013-01-02               0       59    22154       999.0             1   \n",
       "1 2013-01-03               0       25     2574       399.0             2   \n",
       "2 2013-01-05               0       25     2574       399.0             1   \n",
       "3 2013-01-07               0       25     2574       399.0             1   \n",
       "4 2013-01-08               0       25     2574       399.0             2   \n",
       "\n",
       "       ID  item_category_id  weeks  \n",
       "0  150983                37      2  \n",
       "1   56520                55      3  \n",
       "2   56520                55      5  \n",
       "3   56520                55      0  \n",
       "4   56520                55      1  "
      ],
      "text/html": [
       "<div>\n",
       "<style scoped>\n",
       "    .dataframe tbody tr th:only-of-type {\n",
       "        vertical-align: middle;\n",
       "    }\n",
       "\n",
       "    .dataframe tbody tr th {\n",
       "        vertical-align: top;\n",
       "    }\n",
       "\n",
       "    .dataframe thead th {\n",
       "        text-align: right;\n",
       "    }\n",
       "</style>\n",
       "<table border=\"1\" class=\"dataframe\">\n",
       "  <thead>\n",
       "    <tr style=\"text-align: right;\">\n",
       "      <th></th>\n",
       "      <th>date</th>\n",
       "      <th>date_block_num</th>\n",
       "      <th>shop_id</th>\n",
       "      <th>item_id</th>\n",
       "      <th>item_price</th>\n",
       "      <th>item_cnt_day</th>\n",
       "      <th>ID</th>\n",
       "      <th>item_category_id</th>\n",
       "      <th>weeks</th>\n",
       "    </tr>\n",
       "  </thead>\n",
       "  <tbody>\n",
       "    <tr>\n",
       "      <th>0</th>\n",
       "      <td>2013-01-02</td>\n",
       "      <td>0</td>\n",
       "      <td>59</td>\n",
       "      <td>22154</td>\n",
       "      <td>999.0</td>\n",
       "      <td>1</td>\n",
       "      <td>150983</td>\n",
       "      <td>37</td>\n",
       "      <td>2</td>\n",
       "    </tr>\n",
       "    <tr>\n",
       "      <th>1</th>\n",
       "      <td>2013-01-03</td>\n",
       "      <td>0</td>\n",
       "      <td>25</td>\n",
       "      <td>2574</td>\n",
       "      <td>399.0</td>\n",
       "      <td>2</td>\n",
       "      <td>56520</td>\n",
       "      <td>55</td>\n",
       "      <td>3</td>\n",
       "    </tr>\n",
       "    <tr>\n",
       "      <th>2</th>\n",
       "      <td>2013-01-05</td>\n",
       "      <td>0</td>\n",
       "      <td>25</td>\n",
       "      <td>2574</td>\n",
       "      <td>399.0</td>\n",
       "      <td>1</td>\n",
       "      <td>56520</td>\n",
       "      <td>55</td>\n",
       "      <td>5</td>\n",
       "    </tr>\n",
       "    <tr>\n",
       "      <th>3</th>\n",
       "      <td>2013-01-07</td>\n",
       "      <td>0</td>\n",
       "      <td>25</td>\n",
       "      <td>2574</td>\n",
       "      <td>399.0</td>\n",
       "      <td>1</td>\n",
       "      <td>56520</td>\n",
       "      <td>55</td>\n",
       "      <td>0</td>\n",
       "    </tr>\n",
       "    <tr>\n",
       "      <th>4</th>\n",
       "      <td>2013-01-08</td>\n",
       "      <td>0</td>\n",
       "      <td>25</td>\n",
       "      <td>2574</td>\n",
       "      <td>399.0</td>\n",
       "      <td>2</td>\n",
       "      <td>56520</td>\n",
       "      <td>55</td>\n",
       "      <td>1</td>\n",
       "    </tr>\n",
       "  </tbody>\n",
       "</table>\n",
       "</div>"
      ]
     },
     "metadata": {},
     "execution_count": 16
    }
   ],
   "metadata": {
    "scrolled": true
   }
  },
  {
   "cell_type": "code",
   "execution_count": 17,
   "source": [
    "df.describe()"
   ],
   "outputs": [
    {
     "output_type": "execute_result",
     "data": {
      "text/plain": [
       "       date_block_num       shop_id       item_id    item_price  item_cnt_day  \\\n",
       "count    1.224439e+06  1.224439e+06  1.224439e+06  1.224439e+06  1.224439e+06   \n",
       "mean     1.935472e+01  3.215117e+01  9.614866e+03  1.030666e+03  1.321234e+00   \n",
       "std      9.110722e+00  1.646562e+01  6.299870e+03  1.827384e+03  3.312997e+00   \n",
       "min      0.000000e+00  2.000000e+00  3.000000e+01  5.000000e-01 -1.600000e+01   \n",
       "25%      1.200000e+01  1.900000e+01  4.181000e+03  2.990000e+02  1.000000e+00   \n",
       "50%      2.100000e+01  3.100000e+01  7.856000e+03  5.490000e+02  1.000000e+00   \n",
       "75%      2.700000e+01  4.600000e+01  1.522900e+04  1.199000e+03  1.000000e+00   \n",
       "max      3.300000e+01  5.900000e+01  2.216700e+04  5.920000e+04  2.169000e+03   \n",
       "\n",
       "                 ID  item_category_id         weeks  \n",
       "count  1.224439e+06      1.224439e+06  1.224439e+06  \n",
       "mean   9.517727e+04      4.055878e+01  3.316000e+00  \n",
       "std    5.651974e+04      1.860682e+01  2.002866e+00  \n",
       "min    0.000000e+00      2.000000e+00  0.000000e+00  \n",
       "25%    4.784100e+04      2.500000e+01  2.000000e+00  \n",
       "50%    8.716000e+04      3.800000e+01  4.000000e+00  \n",
       "75%    1.400990e+05      5.500000e+01  5.000000e+00  \n",
       "max    2.141990e+05      8.300000e+01  6.000000e+00  "
      ],
      "text/html": [
       "<div>\n",
       "<style scoped>\n",
       "    .dataframe tbody tr th:only-of-type {\n",
       "        vertical-align: middle;\n",
       "    }\n",
       "\n",
       "    .dataframe tbody tr th {\n",
       "        vertical-align: top;\n",
       "    }\n",
       "\n",
       "    .dataframe thead th {\n",
       "        text-align: right;\n",
       "    }\n",
       "</style>\n",
       "<table border=\"1\" class=\"dataframe\">\n",
       "  <thead>\n",
       "    <tr style=\"text-align: right;\">\n",
       "      <th></th>\n",
       "      <th>date_block_num</th>\n",
       "      <th>shop_id</th>\n",
       "      <th>item_id</th>\n",
       "      <th>item_price</th>\n",
       "      <th>item_cnt_day</th>\n",
       "      <th>ID</th>\n",
       "      <th>item_category_id</th>\n",
       "      <th>weeks</th>\n",
       "    </tr>\n",
       "  </thead>\n",
       "  <tbody>\n",
       "    <tr>\n",
       "      <th>count</th>\n",
       "      <td>1.224439e+06</td>\n",
       "      <td>1.224439e+06</td>\n",
       "      <td>1.224439e+06</td>\n",
       "      <td>1.224439e+06</td>\n",
       "      <td>1.224439e+06</td>\n",
       "      <td>1.224439e+06</td>\n",
       "      <td>1.224439e+06</td>\n",
       "      <td>1.224439e+06</td>\n",
       "    </tr>\n",
       "    <tr>\n",
       "      <th>mean</th>\n",
       "      <td>1.935472e+01</td>\n",
       "      <td>3.215117e+01</td>\n",
       "      <td>9.614866e+03</td>\n",
       "      <td>1.030666e+03</td>\n",
       "      <td>1.321234e+00</td>\n",
       "      <td>9.517727e+04</td>\n",
       "      <td>4.055878e+01</td>\n",
       "      <td>3.316000e+00</td>\n",
       "    </tr>\n",
       "    <tr>\n",
       "      <th>std</th>\n",
       "      <td>9.110722e+00</td>\n",
       "      <td>1.646562e+01</td>\n",
       "      <td>6.299870e+03</td>\n",
       "      <td>1.827384e+03</td>\n",
       "      <td>3.312997e+00</td>\n",
       "      <td>5.651974e+04</td>\n",
       "      <td>1.860682e+01</td>\n",
       "      <td>2.002866e+00</td>\n",
       "    </tr>\n",
       "    <tr>\n",
       "      <th>min</th>\n",
       "      <td>0.000000e+00</td>\n",
       "      <td>2.000000e+00</td>\n",
       "      <td>3.000000e+01</td>\n",
       "      <td>5.000000e-01</td>\n",
       "      <td>-1.600000e+01</td>\n",
       "      <td>0.000000e+00</td>\n",
       "      <td>2.000000e+00</td>\n",
       "      <td>0.000000e+00</td>\n",
       "    </tr>\n",
       "    <tr>\n",
       "      <th>25%</th>\n",
       "      <td>1.200000e+01</td>\n",
       "      <td>1.900000e+01</td>\n",
       "      <td>4.181000e+03</td>\n",
       "      <td>2.990000e+02</td>\n",
       "      <td>1.000000e+00</td>\n",
       "      <td>4.784100e+04</td>\n",
       "      <td>2.500000e+01</td>\n",
       "      <td>2.000000e+00</td>\n",
       "    </tr>\n",
       "    <tr>\n",
       "      <th>50%</th>\n",
       "      <td>2.100000e+01</td>\n",
       "      <td>3.100000e+01</td>\n",
       "      <td>7.856000e+03</td>\n",
       "      <td>5.490000e+02</td>\n",
       "      <td>1.000000e+00</td>\n",
       "      <td>8.716000e+04</td>\n",
       "      <td>3.800000e+01</td>\n",
       "      <td>4.000000e+00</td>\n",
       "    </tr>\n",
       "    <tr>\n",
       "      <th>75%</th>\n",
       "      <td>2.700000e+01</td>\n",
       "      <td>4.600000e+01</td>\n",
       "      <td>1.522900e+04</td>\n",
       "      <td>1.199000e+03</td>\n",
       "      <td>1.000000e+00</td>\n",
       "      <td>1.400990e+05</td>\n",
       "      <td>5.500000e+01</td>\n",
       "      <td>5.000000e+00</td>\n",
       "    </tr>\n",
       "    <tr>\n",
       "      <th>max</th>\n",
       "      <td>3.300000e+01</td>\n",
       "      <td>5.900000e+01</td>\n",
       "      <td>2.216700e+04</td>\n",
       "      <td>5.920000e+04</td>\n",
       "      <td>2.169000e+03</td>\n",
       "      <td>2.141990e+05</td>\n",
       "      <td>8.300000e+01</td>\n",
       "      <td>6.000000e+00</td>\n",
       "    </tr>\n",
       "  </tbody>\n",
       "</table>\n",
       "</div>"
      ]
     },
     "metadata": {},
     "execution_count": 17
    }
   ],
   "metadata": {
    "scrolled": false
   }
  },
  {
   "cell_type": "code",
   "execution_count": 18,
   "source": [
    "len(df[df['item_cnt_day'] < 0])"
   ],
   "outputs": [
    {
     "output_type": "execute_result",
     "data": {
      "text/plain": [
       "2941"
      ]
     },
     "metadata": {},
     "execution_count": 18
    }
   ],
   "metadata": {
    "scrolled": false
   }
  },
  {
   "cell_type": "markdown",
   "source": [
    "# 동일한 물품은 동일한 가격에 판매되는가?\n",
    "- No"
   ],
   "metadata": {}
  },
  {
   "cell_type": "code",
   "execution_count": 19,
   "source": [
    "df[df['item_id'] == 2574]['item_price'].value_counts()"
   ],
   "outputs": [
    {
     "output_type": "execute_result",
     "data": {
      "text/plain": [
       "399.00    1615\n",
       "449.00     248\n",
       "282.00       3\n",
       "379.00       2\n",
       "398.50       2\n",
       "330.00       1\n",
       "398.70       1\n",
       "319.00       1\n",
       "398.95       1\n",
       "378.45       1\n",
       "398.90       1\n",
       "302.45       1\n",
       "378.90       1\n",
       "378.70       1\n",
       "378.75       1\n",
       "Name: item_price, dtype: int64"
      ]
     },
     "metadata": {},
     "execution_count": 19
    }
   ],
   "metadata": {
    "scrolled": true
   }
  },
  {
   "cell_type": "markdown",
   "source": [
    "# ID별 분포도 조사\n",
    "- 생각 이상으로 충분한 데이터를 가진 아이템이 많지 않다.\n",
    "- 100개 이상의 데이터를 갖는 ID가 전체의 1%도 되지 않는다.\n",
    "- 최댓값이 867임에도 불구하고 평균이 11정도이다."
   ],
   "metadata": {}
  },
  {
   "cell_type": "code",
   "execution_count": 20,
   "source": [
    "df['ID'].value_counts().describe()"
   ],
   "outputs": [
    {
     "output_type": "execute_result",
     "data": {
      "text/plain": [
       "count    111404.000000\n",
       "mean         10.990979\n",
       "std          24.645661\n",
       "min           1.000000\n",
       "25%           2.000000\n",
       "50%           4.000000\n",
       "75%          11.000000\n",
       "max         867.000000\n",
       "Name: ID, dtype: float64"
      ]
     },
     "metadata": {},
     "execution_count": 20
    }
   ],
   "metadata": {
    "scrolled": true
   }
  },
  {
   "cell_type": "code",
   "execution_count": 21,
   "source": [
    "ID_count = df['ID'].value_counts()\r\n",
    "ID_count"
   ],
   "outputs": [
    {
     "output_type": "execute_result",
     "data": {
      "text/plain": [
       "41260     867\n",
       "46360     863\n",
       "117760    863\n",
       "61660     848\n",
       "102460    834\n",
       "         ... \n",
       "123431      1\n",
       "18223       1\n",
       "22317       1\n",
       "26411       1\n",
       "3464        1\n",
       "Name: ID, Length: 111404, dtype: int64"
      ]
     },
     "metadata": {},
     "execution_count": 21
    }
   ],
   "metadata": {
    "scrolled": false
   }
  },
  {
   "cell_type": "code",
   "execution_count": 22,
   "source": [
    "len(ID_count[ID_count< 50])"
   ],
   "outputs": [
    {
     "output_type": "execute_result",
     "data": {
      "text/plain": [
       "107249"
      ]
     },
     "metadata": {},
     "execution_count": 22
    }
   ],
   "metadata": {
    "scrolled": true
   }
  },
  {
   "cell_type": "markdown",
   "source": [
    "# 품목별 분포도 조사\n",
    "- 절반에 가까운 데이터가 100개도 존재하지 않음"
   ],
   "metadata": {}
  },
  {
   "cell_type": "code",
   "execution_count": 23,
   "source": [
    "df['item_id'].value_counts().describe()"
   ],
   "outputs": [
    {
     "output_type": "execute_result",
     "data": {
      "text/plain": [
       "count     4716.000000\n",
       "mean       259.635072\n",
       "std        636.234263\n",
       "min          1.000000\n",
       "25%         28.000000\n",
       "50%        100.000000\n",
       "75%        271.000000\n",
       "max      26488.000000\n",
       "Name: item_id, dtype: float64"
      ]
     },
     "metadata": {},
     "execution_count": 23
    }
   ],
   "metadata": {
    "scrolled": true
   }
  },
  {
   "cell_type": "code",
   "execution_count": 24,
   "source": [
    "item_id_counts = df['item_id'].value_counts()\r\n",
    "item_id_counts"
   ],
   "outputs": [
    {
     "output_type": "execute_result",
     "data": {
      "text/plain": [
       "20949    26488\n",
       "5822      7919\n",
       "17717     7896\n",
       "2808      6337\n",
       "4181      5985\n",
       "         ...  \n",
       "938          1\n",
       "8214         1\n",
       "19075        1\n",
       "16064        1\n",
       "21010        1\n",
       "Name: item_id, Length: 4716, dtype: int64"
      ]
     },
     "metadata": {},
     "execution_count": 24
    }
   ],
   "metadata": {
    "scrolled": true
   }
  },
  {
   "cell_type": "code",
   "execution_count": 25,
   "source": [
    "len(item_id_counts[item_id_counts < 50])"
   ],
   "outputs": [
    {
     "output_type": "execute_result",
     "data": {
      "text/plain": [
       "1627"
      ]
     },
     "metadata": {},
     "execution_count": 25
    }
   ],
   "metadata": {
    "scrolled": false
   }
  },
  {
   "cell_type": "markdown",
   "source": [
    "# 데이터량이 가장 많은 상위 2개 ID에 따른 월별, 연도별 누적 데이터 분석 "
   ],
   "metadata": {}
  },
  {
   "cell_type": "code",
   "execution_count": 26,
   "source": [
    "ID_index_top5 = ID_count[0:5].index"
   ],
   "outputs": [],
   "metadata": {}
  },
  {
   "cell_type": "code",
   "execution_count": 27,
   "source": [
    "month_data = {}\r\n",
    "\r\n",
    "for i in ID_index_top5:\r\n",
    "    month_data[str(i)] = df[df['ID'] == i]\r\n",
    "\r\n",
    "month_data.keys()"
   ],
   "outputs": [
    {
     "output_type": "execute_result",
     "data": {
      "text/plain": [
       "dict_keys(['41260', '46360', '117760', '61660', '102460'])"
      ]
     },
     "metadata": {},
     "execution_count": 27
    }
   ],
   "metadata": {}
  },
  {
   "cell_type": "markdown",
   "source": [
    "## ID: 41260"
   ],
   "metadata": {}
  },
  {
   "cell_type": "code",
   "execution_count": 28,
   "source": [
    "month_data['41260']"
   ],
   "outputs": [
    {
     "output_type": "execute_result",
     "data": {
      "text/plain": [
       "              date  date_block_num  shop_id  item_id  item_price  \\\n",
       "61323   2013-04-29               3       28    20949         5.0   \n",
       "61324   2013-04-30               3       28    20949         5.0   \n",
       "77499   2013-05-31               4       28    20949         5.0   \n",
       "77529   2013-05-30               4       28    20949         5.0   \n",
       "77530   2013-05-28               4       28    20949         5.0   \n",
       "...            ...             ...      ...      ...         ...   \n",
       "1217409 2015-10-27              33       28    20949         5.0   \n",
       "1217410 2015-10-29              33       28    20949         5.0   \n",
       "1217411 2015-10-30              33       28    20949         5.0   \n",
       "1217412 2015-10-31              33       28    20949         5.0   \n",
       "1217591 2015-10-22              33       28    20949         5.0   \n",
       "\n",
       "         item_cnt_day     ID  item_category_id  weeks  \n",
       "61323               2  41260                71      0  \n",
       "61324               5  41260                71      1  \n",
       "77499              18  41260                71      4  \n",
       "77529               9  41260                71      3  \n",
       "77530              15  41260                71      1  \n",
       "...               ...    ...               ...    ...  \n",
       "1217409             2  41260                71      1  \n",
       "1217410            12  41260                71      3  \n",
       "1217411             4  41260                71      4  \n",
       "1217412            15  41260                71      5  \n",
       "1217591             3  41260                71      3  \n",
       "\n",
       "[867 rows x 9 columns]"
      ],
      "text/html": [
       "<div>\n",
       "<style scoped>\n",
       "    .dataframe tbody tr th:only-of-type {\n",
       "        vertical-align: middle;\n",
       "    }\n",
       "\n",
       "    .dataframe tbody tr th {\n",
       "        vertical-align: top;\n",
       "    }\n",
       "\n",
       "    .dataframe thead th {\n",
       "        text-align: right;\n",
       "    }\n",
       "</style>\n",
       "<table border=\"1\" class=\"dataframe\">\n",
       "  <thead>\n",
       "    <tr style=\"text-align: right;\">\n",
       "      <th></th>\n",
       "      <th>date</th>\n",
       "      <th>date_block_num</th>\n",
       "      <th>shop_id</th>\n",
       "      <th>item_id</th>\n",
       "      <th>item_price</th>\n",
       "      <th>item_cnt_day</th>\n",
       "      <th>ID</th>\n",
       "      <th>item_category_id</th>\n",
       "      <th>weeks</th>\n",
       "    </tr>\n",
       "  </thead>\n",
       "  <tbody>\n",
       "    <tr>\n",
       "      <th>61323</th>\n",
       "      <td>2013-04-29</td>\n",
       "      <td>3</td>\n",
       "      <td>28</td>\n",
       "      <td>20949</td>\n",
       "      <td>5.0</td>\n",
       "      <td>2</td>\n",
       "      <td>41260</td>\n",
       "      <td>71</td>\n",
       "      <td>0</td>\n",
       "    </tr>\n",
       "    <tr>\n",
       "      <th>61324</th>\n",
       "      <td>2013-04-30</td>\n",
       "      <td>3</td>\n",
       "      <td>28</td>\n",
       "      <td>20949</td>\n",
       "      <td>5.0</td>\n",
       "      <td>5</td>\n",
       "      <td>41260</td>\n",
       "      <td>71</td>\n",
       "      <td>1</td>\n",
       "    </tr>\n",
       "    <tr>\n",
       "      <th>77499</th>\n",
       "      <td>2013-05-31</td>\n",
       "      <td>4</td>\n",
       "      <td>28</td>\n",
       "      <td>20949</td>\n",
       "      <td>5.0</td>\n",
       "      <td>18</td>\n",
       "      <td>41260</td>\n",
       "      <td>71</td>\n",
       "      <td>4</td>\n",
       "    </tr>\n",
       "    <tr>\n",
       "      <th>77529</th>\n",
       "      <td>2013-05-30</td>\n",
       "      <td>4</td>\n",
       "      <td>28</td>\n",
       "      <td>20949</td>\n",
       "      <td>5.0</td>\n",
       "      <td>9</td>\n",
       "      <td>41260</td>\n",
       "      <td>71</td>\n",
       "      <td>3</td>\n",
       "    </tr>\n",
       "    <tr>\n",
       "      <th>77530</th>\n",
       "      <td>2013-05-28</td>\n",
       "      <td>4</td>\n",
       "      <td>28</td>\n",
       "      <td>20949</td>\n",
       "      <td>5.0</td>\n",
       "      <td>15</td>\n",
       "      <td>41260</td>\n",
       "      <td>71</td>\n",
       "      <td>1</td>\n",
       "    </tr>\n",
       "    <tr>\n",
       "      <th>...</th>\n",
       "      <td>...</td>\n",
       "      <td>...</td>\n",
       "      <td>...</td>\n",
       "      <td>...</td>\n",
       "      <td>...</td>\n",
       "      <td>...</td>\n",
       "      <td>...</td>\n",
       "      <td>...</td>\n",
       "      <td>...</td>\n",
       "    </tr>\n",
       "    <tr>\n",
       "      <th>1217409</th>\n",
       "      <td>2015-10-27</td>\n",
       "      <td>33</td>\n",
       "      <td>28</td>\n",
       "      <td>20949</td>\n",
       "      <td>5.0</td>\n",
       "      <td>2</td>\n",
       "      <td>41260</td>\n",
       "      <td>71</td>\n",
       "      <td>1</td>\n",
       "    </tr>\n",
       "    <tr>\n",
       "      <th>1217410</th>\n",
       "      <td>2015-10-29</td>\n",
       "      <td>33</td>\n",
       "      <td>28</td>\n",
       "      <td>20949</td>\n",
       "      <td>5.0</td>\n",
       "      <td>12</td>\n",
       "      <td>41260</td>\n",
       "      <td>71</td>\n",
       "      <td>3</td>\n",
       "    </tr>\n",
       "    <tr>\n",
       "      <th>1217411</th>\n",
       "      <td>2015-10-30</td>\n",
       "      <td>33</td>\n",
       "      <td>28</td>\n",
       "      <td>20949</td>\n",
       "      <td>5.0</td>\n",
       "      <td>4</td>\n",
       "      <td>41260</td>\n",
       "      <td>71</td>\n",
       "      <td>4</td>\n",
       "    </tr>\n",
       "    <tr>\n",
       "      <th>1217412</th>\n",
       "      <td>2015-10-31</td>\n",
       "      <td>33</td>\n",
       "      <td>28</td>\n",
       "      <td>20949</td>\n",
       "      <td>5.0</td>\n",
       "      <td>15</td>\n",
       "      <td>41260</td>\n",
       "      <td>71</td>\n",
       "      <td>5</td>\n",
       "    </tr>\n",
       "    <tr>\n",
       "      <th>1217591</th>\n",
       "      <td>2015-10-22</td>\n",
       "      <td>33</td>\n",
       "      <td>28</td>\n",
       "      <td>20949</td>\n",
       "      <td>5.0</td>\n",
       "      <td>3</td>\n",
       "      <td>41260</td>\n",
       "      <td>71</td>\n",
       "      <td>3</td>\n",
       "    </tr>\n",
       "  </tbody>\n",
       "</table>\n",
       "<p>867 rows × 9 columns</p>\n",
       "</div>"
      ]
     },
     "metadata": {},
     "execution_count": 28
    }
   ],
   "metadata": {
    "scrolled": true
   }
  },
  {
   "cell_type": "code",
   "execution_count": 29,
   "source": [
    "month_data['41260']['date_block_num'].value_counts(sort = False)"
   ],
   "outputs": [
    {
     "output_type": "execute_result",
     "data": {
      "text/plain": [
       "3      2\n",
       "4     31\n",
       "5     30\n",
       "6     31\n",
       "7     31\n",
       "8     29\n",
       "9     31\n",
       "10    30\n",
       "11    31\n",
       "12    31\n",
       "13    28\n",
       "14    31\n",
       "15    30\n",
       "16    31\n",
       "17    30\n",
       "18    31\n",
       "19    31\n",
       "20    30\n",
       "21    31\n",
       "22    30\n",
       "23    30\n",
       "24    31\n",
       "25     7\n",
       "26     7\n",
       "27    30\n",
       "28    31\n",
       "29    30\n",
       "30    31\n",
       "31    31\n",
       "32    29\n",
       "33    30\n",
       "Name: date_block_num, dtype: int64"
      ]
     },
     "metadata": {},
     "execution_count": 29
    }
   ],
   "metadata": {
    "scrolled": true
   }
  },
  {
   "cell_type": "markdown",
   "source": [
    "- 제품이 2013.4월 말에 출시가 되었을 거라고 추측이 가능"
   ],
   "metadata": {}
  },
  {
   "cell_type": "code",
   "execution_count": 30,
   "source": [
    "months = month_data['41260']['date_block_num'].unique()"
   ],
   "outputs": [],
   "metadata": {}
  },
  {
   "cell_type": "code",
   "execution_count": 31,
   "source": [
    "sold_data = month_data['41260'][['date_block_num', 'item_cnt_day']]"
   ],
   "outputs": [],
   "metadata": {}
  },
  {
   "cell_type": "code",
   "execution_count": 32,
   "source": [
    "accumulate_month_data_41260 = {}\r\n",
    "\r\n",
    "for month in months:\r\n",
    "    temp = sold_data[sold_data['date_block_num'] == month]['item_cnt_day'].tolist()\r\n",
    "    temp_list = []\r\n",
    "    temp_list.append(temp[0])\r\n",
    "    for i in range(1,len(temp)):\r\n",
    "        temp_list.append(temp[i] + temp_list[i-1])\r\n",
    "        \r\n",
    "    accumulate_month_data_41260[f'{2013 + (month // 12)}-{(month % 12) + 1}'] = temp_list\r\n",
    "\r\n",
    "for month in accumulate_month_data_41260:\r\n",
    "    print(month)"
   ],
   "outputs": [
    {
     "output_type": "stream",
     "name": "stdout",
     "text": [
      "2013-4\n",
      "2013-5\n",
      "2013-6\n",
      "2013-7\n",
      "2013-8\n",
      "2013-9\n",
      "2013-10\n",
      "2013-11\n",
      "2013-12\n",
      "2014-1\n",
      "2014-2\n",
      "2014-3\n",
      "2014-4\n",
      "2014-5\n",
      "2014-6\n",
      "2014-7\n",
      "2014-8\n",
      "2014-9\n",
      "2014-10\n",
      "2014-11\n",
      "2014-12\n",
      "2015-1\n",
      "2015-2\n",
      "2015-3\n",
      "2015-4\n",
      "2015-5\n",
      "2015-6\n",
      "2015-7\n",
      "2015-8\n",
      "2015-9\n",
      "2015-10\n"
     ]
    }
   ],
   "metadata": {
    "scrolled": true
   }
  },
  {
   "cell_type": "code",
   "execution_count": 33,
   "source": [
    "may = {'2013-5':accumulate_month_data_41260['2013-5'],\r\n",
    "      '2014-5':accumulate_month_data_41260['2014-5'],\r\n",
    "      '2015-5':accumulate_month_data_41260['2015-5']}"
   ],
   "outputs": [],
   "metadata": {}
  },
  {
   "cell_type": "code",
   "execution_count": 34,
   "source": [
    "may = pd.DataFrame(may)"
   ],
   "outputs": [],
   "metadata": {}
  },
  {
   "cell_type": "code",
   "execution_count": 35,
   "source": [
    "may.plot()"
   ],
   "outputs": [
    {
     "output_type": "execute_result",
     "data": {
      "text/plain": [
       "<AxesSubplot:>"
      ]
     },
     "metadata": {},
     "execution_count": 35
    },
    {
     "output_type": "display_data",
     "data": {
      "text/plain": [
       "<Figure size 432x288 with 1 Axes>"
      ],
      "image/png": "[encoded data removed]"
     },
     "metadata": {
      "needs_background": "light"
     }
    }
   ],
   "metadata": {
    "scrolled": false
   }
  },
  {
   "cell_type": "markdown",
   "source": [
    "## ID: 117760"
   ],
   "metadata": {}
  },
  {
   "cell_type": "code",
   "execution_count": 36,
   "source": [
    "month_data['117760']"
   ],
   "outputs": [
    {
     "output_type": "execute_result",
     "data": {
      "text/plain": [
       "              date  date_block_num  shop_id  item_id  item_price  \\\n",
       "67861   2013-04-30               3       53    20949         5.0   \n",
       "67863   2013-04-29               3       53    20949         5.0   \n",
       "85990   2013-05-01               4       53    20949         5.0   \n",
       "85991   2013-05-02               4       53    20949         5.0   \n",
       "85992   2013-05-03               4       53    20949         5.0   \n",
       "...            ...             ...      ...      ...         ...   \n",
       "1197315 2015-10-27              33       53    20949         5.0   \n",
       "1197316 2015-10-28              33       53    20949         5.0   \n",
       "1197317 2015-10-30              33       53    20949         5.0   \n",
       "1197318 2015-10-31              33       53    20949         5.0   \n",
       "1197331 2015-10-17              33       53    20949         5.0   \n",
       "\n",
       "         item_cnt_day      ID  item_category_id  weeks  \n",
       "67861               6  117760                71      1  \n",
       "67863               2  117760                71      0  \n",
       "85990               8  117760                71      2  \n",
       "85991               2  117760                71      3  \n",
       "85992               5  117760                71      4  \n",
       "...               ...     ...               ...    ...  \n",
       "1197315             1  117760                71      1  \n",
       "1197316             3  117760                71      2  \n",
       "1197317             4  117760                71      4  \n",
       "1197318             4  117760                71      5  \n",
       "1197331             5  117760                71      5  \n",
       "\n",
       "[863 rows x 9 columns]"
      ],
      "text/html": [
       "<div>\n",
       "<style scoped>\n",
       "    .dataframe tbody tr th:only-of-type {\n",
       "        vertical-align: middle;\n",
       "    }\n",
       "\n",
       "    .dataframe tbody tr th {\n",
       "        vertical-align: top;\n",
       "    }\n",
       "\n",
       "    .dataframe thead th {\n",
       "        text-align: right;\n",
       "    }\n",
       "</style>\n",
       "<table border=\"1\" class=\"dataframe\">\n",
       "  <thead>\n",
       "    <tr style=\"text-align: right;\">\n",
       "      <th></th>\n",
       "      <th>date</th>\n",
       "      <th>date_block_num</th>\n",
       "      <th>shop_id</th>\n",
       "      <th>item_id</th>\n",
       "      <th>item_price</th>\n",
       "      <th>item_cnt_day</th>\n",
       "      <th>ID</th>\n",
       "      <th>item_category_id</th>\n",
       "      <th>weeks</th>\n",
       "    </tr>\n",
       "  </thead>\n",
       "  <tbody>\n",
       "    <tr>\n",
       "      <th>67861</th>\n",
       "      <td>2013-04-30</td>\n",
       "      <td>3</td>\n",
       "      <td>53</td>\n",
       "      <td>20949</td>\n",
       "      <td>5.0</td>\n",
       "      <td>6</td>\n",
       "      <td>117760</td>\n",
       "      <td>71</td>\n",
       "      <td>1</td>\n",
       "    </tr>\n",
       "    <tr>\n",
       "      <th>67863</th>\n",
       "      <td>2013-04-29</td>\n",
       "      <td>3</td>\n",
       "      <td>53</td>\n",
       "      <td>20949</td>\n",
       "      <td>5.0</td>\n",
       "      <td>2</td>\n",
       "      <td>117760</td>\n",
       "      <td>71</td>\n",
       "      <td>0</td>\n",
       "    </tr>\n",
       "    <tr>\n",
       "      <th>85990</th>\n",
       "      <td>2013-05-01</td>\n",
       "      <td>4</td>\n",
       "      <td>53</td>\n",
       "      <td>20949</td>\n",
       "      <td>5.0</td>\n",
       "      <td>8</td>\n",
       "      <td>117760</td>\n",
       "      <td>71</td>\n",
       "      <td>2</td>\n",
       "    </tr>\n",
       "    <tr>\n",
       "      <th>85991</th>\n",
       "      <td>2013-05-02</td>\n",
       "      <td>4</td>\n",
       "      <td>53</td>\n",
       "      <td>20949</td>\n",
       "      <td>5.0</td>\n",
       "      <td>2</td>\n",
       "      <td>117760</td>\n",
       "      <td>71</td>\n",
       "      <td>3</td>\n",
       "    </tr>\n",
       "    <tr>\n",
       "      <th>85992</th>\n",
       "      <td>2013-05-03</td>\n",
       "      <td>4</td>\n",
       "      <td>53</td>\n",
       "      <td>20949</td>\n",
       "      <td>5.0</td>\n",
       "      <td>5</td>\n",
       "      <td>117760</td>\n",
       "      <td>71</td>\n",
       "      <td>4</td>\n",
       "    </tr>\n",
       "    <tr>\n",
       "      <th>...</th>\n",
       "      <td>...</td>\n",
       "      <td>...</td>\n",
       "      <td>...</td>\n",
       "      <td>...</td>\n",
       "      <td>...</td>\n",
       "      <td>...</td>\n",
       "      <td>...</td>\n",
       "      <td>...</td>\n",
       "      <td>...</td>\n",
       "    </tr>\n",
       "    <tr>\n",
       "      <th>1197315</th>\n",
       "      <td>2015-10-27</td>\n",
       "      <td>33</td>\n",
       "      <td>53</td>\n",
       "      <td>20949</td>\n",
       "      <td>5.0</td>\n",
       "      <td>1</td>\n",
       "      <td>117760</td>\n",
       "      <td>71</td>\n",
       "      <td>1</td>\n",
       "    </tr>\n",
       "    <tr>\n",
       "      <th>1197316</th>\n",
       "      <td>2015-10-28</td>\n",
       "      <td>33</td>\n",
       "      <td>53</td>\n",
       "      <td>20949</td>\n",
       "      <td>5.0</td>\n",
       "      <td>3</td>\n",
       "      <td>117760</td>\n",
       "      <td>71</td>\n",
       "      <td>2</td>\n",
       "    </tr>\n",
       "    <tr>\n",
       "      <th>1197317</th>\n",
       "      <td>2015-10-30</td>\n",
       "      <td>33</td>\n",
       "      <td>53</td>\n",
       "      <td>20949</td>\n",
       "      <td>5.0</td>\n",
       "      <td>4</td>\n",
       "      <td>117760</td>\n",
       "      <td>71</td>\n",
       "      <td>4</td>\n",
       "    </tr>\n",
       "    <tr>\n",
       "      <th>1197318</th>\n",
       "      <td>2015-10-31</td>\n",
       "      <td>33</td>\n",
       "      <td>53</td>\n",
       "      <td>20949</td>\n",
       "      <td>5.0</td>\n",
       "      <td>4</td>\n",
       "      <td>117760</td>\n",
       "      <td>71</td>\n",
       "      <td>5</td>\n",
       "    </tr>\n",
       "    <tr>\n",
       "      <th>1197331</th>\n",
       "      <td>2015-10-17</td>\n",
       "      <td>33</td>\n",
       "      <td>53</td>\n",
       "      <td>20949</td>\n",
       "      <td>5.0</td>\n",
       "      <td>5</td>\n",
       "      <td>117760</td>\n",
       "      <td>71</td>\n",
       "      <td>5</td>\n",
       "    </tr>\n",
       "  </tbody>\n",
       "</table>\n",
       "<p>863 rows × 9 columns</p>\n",
       "</div>"
      ]
     },
     "metadata": {},
     "execution_count": 36
    }
   ],
   "metadata": {
    "scrolled": true
   }
  },
  {
   "cell_type": "code",
   "execution_count": 37,
   "source": [
    "month_data['117760']['date_block_num'].value_counts(sort = False)"
   ],
   "outputs": [
    {
     "output_type": "execute_result",
     "data": {
      "text/plain": [
       "3      2\n",
       "4     31\n",
       "5     30\n",
       "6     27\n",
       "7     31\n",
       "8     29\n",
       "9     31\n",
       "10    30\n",
       "11    30\n",
       "12    30\n",
       "13    27\n",
       "14    31\n",
       "15    28\n",
       "16    30\n",
       "17    29\n",
       "18    30\n",
       "19    31\n",
       "20    29\n",
       "21    29\n",
       "22    28\n",
       "23    30\n",
       "24    29\n",
       "25    27\n",
       "26    26\n",
       "27    28\n",
       "28    28\n",
       "29    27\n",
       "30    29\n",
       "31    27\n",
       "32    26\n",
       "33    23\n",
       "Name: date_block_num, dtype: int64"
      ]
     },
     "metadata": {},
     "execution_count": 37
    }
   ],
   "metadata": {
    "scrolled": true
   }
  },
  {
   "cell_type": "code",
   "execution_count": 38,
   "source": [
    "months = month_data['117760']['date_block_num'].unique()\r\n",
    "sold_data = month_data['117760'][['date_block_num', 'item_cnt_day']]"
   ],
   "outputs": [],
   "metadata": {}
  },
  {
   "cell_type": "code",
   "execution_count": 39,
   "source": [
    "accumulate_month_data_117760 = {}\r\n",
    "\r\n",
    "for month in months:\r\n",
    "    temp = sold_data[sold_data['date_block_num'] == month]['item_cnt_day'].tolist()\r\n",
    "    temp_list = []\r\n",
    "    temp_list.append(temp[0])\r\n",
    "    for i in range(1,len(temp)):\r\n",
    "        temp_list.append(temp[i] + temp_list[i-1])\r\n",
    "        \r\n",
    "    accumulate_month_data_117760[f'{2013 + (month // 12)}-{(month % 12) + 1}'] = temp_list\r\n",
    "\r\n",
    "for month in accumulate_month_data_117760:\r\n",
    "    print(month)"
   ],
   "outputs": [
    {
     "output_type": "stream",
     "name": "stdout",
     "text": [
      "2013-4\n",
      "2013-5\n",
      "2013-6\n",
      "2013-7\n",
      "2013-8\n",
      "2013-9\n",
      "2013-10\n",
      "2013-11\n",
      "2013-12\n",
      "2014-1\n",
      "2014-2\n",
      "2014-3\n",
      "2014-4\n",
      "2014-5\n",
      "2014-6\n",
      "2014-7\n",
      "2014-8\n",
      "2014-9\n",
      "2014-10\n",
      "2014-11\n",
      "2014-12\n",
      "2015-1\n",
      "2015-2\n",
      "2015-3\n",
      "2015-4\n",
      "2015-5\n",
      "2015-6\n",
      "2015-7\n",
      "2015-8\n",
      "2015-9\n",
      "2015-10\n"
     ]
    }
   ],
   "metadata": {
    "scrolled": true
   }
  },
  {
   "cell_type": "code",
   "execution_count": 40,
   "source": [
    "may_117760 = {'2013-5':accumulate_month_data_117760['2013-5'],\r\n",
    "      '2014-5':accumulate_month_data_117760['2014-5'],\r\n",
    "      '2015-5':accumulate_month_data_117760['2015-5']}"
   ],
   "outputs": [],
   "metadata": {}
  },
  {
   "cell_type": "code",
   "execution_count": 41,
   "source": [
    "for may in may_117760:\r\n",
    "    print(len(may_117760[may]))"
   ],
   "outputs": [
    {
     "output_type": "stream",
     "name": "stdout",
     "text": [
      "31\n",
      "30\n",
      "28\n"
     ]
    }
   ],
   "metadata": {
    "scrolled": true
   }
  },
  {
   "cell_type": "code",
   "execution_count": 42,
   "source": [
    "for may in may_117760:\r\n",
    "    pd.Series(may_117760[may]).plot()"
   ],
   "outputs": [
    {
     "output_type": "display_data",
     "data": {
      "text/plain": [
       "<Figure size 432x288 with 1 Axes>"
      ],
      "image/png": "[encoded data removed]"
     },
     "metadata": {
      "needs_background": "light"
     }
    }
   ],
   "metadata": {
    "scrolled": true
   }
  },
  {
   "cell_type": "code",
   "execution_count": 43,
   "source": [
    "month_data['41260'].groupby('date_block_num').min()['item_cnt_day'].plot()"
   ],
   "outputs": [
    {
     "output_type": "execute_result",
     "data": {
      "text/plain": [
       "<AxesSubplot:xlabel='date_block_num'>"
      ]
     },
     "metadata": {},
     "execution_count": 43
    },
    {
     "output_type": "display_data",
     "data": {
      "text/plain": [
       "<Figure size 432x288 with 1 Axes>"
      ],
      "image/png": "[encoded data removed]"
     },
     "metadata": {
      "needs_background": "light"
     }
    }
   ],
   "metadata": {}
  },
  {
   "cell_type": "markdown",
   "source": [
    "# 전처리"
   ],
   "metadata": {}
  },
  {
   "cell_type": "markdown",
   "source": [
    "* features\r\n",
    "    * 기존 feature\r\n",
    "        * ID\r\n",
    "        * shop_id\r\n",
    "        * item_id\r\n",
    "        * item_category_id\r\n",
    "    * 추가한 feature\r\n",
    "        * year : 연도\r\n",
    "        * month : 월\r\n",
    "        * item_price : 월 평균 거래단가\r\n",
    "        * category_occ : item_category별 판매 개수 점유율\r\n",
    "        * total_mean_item_price : 전체 월 평균 거래단가\r\n",
    "* target\r\n",
    "    * item_cnt_month : 월 판매개수"
   ],
   "metadata": {}
  },
  {
   "cell_type": "markdown",
   "source": [
    "* 2015년 11월 예측할 때\r\n",
    "    * item_price\r\n",
    "        * 최근 3개월 + 전년도 같은 달의 item_price 총 5개월치 값을 넣음\r\n",
    "        * 월 평균 1개 미만의 값은 0으로 처리\r\n",
    "    * category_occ\r\n",
    "        * 주어진 데이터에서 얻은 item_category별 판매 개수 점유율을 반영\r\n",
    "        * groupby 활용\r\n",
    "    * total_mean_item_price\r\n",
    "        * 주어진 데이터에서 얻은 전체 월 평균 거래단가 반영\r\n",
    "        * groupby 활용"
   ],
   "metadata": {}
  },
  {
   "cell_type": "code",
   "execution_count": 47,
   "source": [
    "df_preprocess = pd.read_csv('data_frame_v2.csv', index_col=None)\r\n",
    "df_preprocess"
   ],
   "outputs": [
    {
     "output_type": "execute_result",
     "data": {
      "text/plain": [
       "        year  month      ID  data_block_num  shop_id  item_id  \\\n",
       "0       2013      1    5122               0        4     5823   \n",
       "1       2013      1    5127               0        4     5643   \n",
       "2       2013      1    5142               0        4     5821   \n",
       "3       2013      1    5143               0        4     5822   \n",
       "4       2013      1    5152               0        4     5459   \n",
       "...      ...    ...     ...             ...      ...      ...   \n",
       "600154  2015     10  213962              33       45    16106   \n",
       "600155  2015     10  214068              33       45     6184   \n",
       "600156  2015     10  214069              33       45     3985   \n",
       "600157  2015     10  214187              33       45     5401   \n",
       "600158  2015     10  214195              33       45    18454   \n",
       "\n",
       "        item_category_id  item_price  category_occ  total_mean_item_price  \\\n",
       "0                     35     2500.00           162            2635.116266   \n",
       "1                      2     2330.25            43            2539.082418   \n",
       "2                     35      599.00           162             822.133789   \n",
       "3                     35      999.00           162            1064.279381   \n",
       "4                     55      299.00          1105             330.464615   \n",
       "...                  ...         ...           ...                    ...   \n",
       "600154                64      799.00           158             573.999197   \n",
       "600155                30      498.00          1362             670.072416   \n",
       "600156                55       98.00          1105             249.491071   \n",
       "600157                19      799.00           677            1626.173585   \n",
       "600158                55       99.00          1105             190.688337   \n",
       "\n",
       "        item_cnt_month  \n",
       "0                    1  \n",
       "1                    3  \n",
       "2                    2  \n",
       "3                    9  \n",
       "4                    1  \n",
       "...                ...  \n",
       "600154               1  \n",
       "600155               1  \n",
       "600156               1  \n",
       "600157               1  \n",
       "600158               1  \n",
       "\n",
       "[600159 rows x 11 columns]"
      ],
      "text/html": [
       "<div>\n",
       "<style scoped>\n",
       "    .dataframe tbody tr th:only-of-type {\n",
       "        vertical-align: middle;\n",
       "    }\n",
       "\n",
       "    .dataframe tbody tr th {\n",
       "        vertical-align: top;\n",
       "    }\n",
       "\n",
       "    .dataframe thead th {\n",
       "        text-align: right;\n",
       "    }\n",
       "</style>\n",
       "<table border=\"1\" class=\"dataframe\">\n",
       "  <thead>\n",
       "    <tr style=\"text-align: right;\">\n",
       "      <th></th>\n",
       "      <th>year</th>\n",
       "      <th>month</th>\n",
       "      <th>ID</th>\n",
       "      <th>data_block_num</th>\n",
       "      <th>shop_id</th>\n",
       "      <th>item_id</th>\n",
       "      <th>item_category_id</th>\n",
       "      <th>item_price</th>\n",
       "      <th>category_occ</th>\n",
       "      <th>total_mean_item_price</th>\n",
       "      <th>item_cnt_month</th>\n",
       "    </tr>\n",
       "  </thead>\n",
       "  <tbody>\n",
       "    <tr>\n",
       "      <th>0</th>\n",
       "      <td>2013</td>\n",
       "      <td>1</td>\n",
       "      <td>5122</td>\n",
       "      <td>0</td>\n",
       "      <td>4</td>\n",
       "      <td>5823</td>\n",
       "      <td>35</td>\n",
       "      <td>2500.00</td>\n",
       "      <td>162</td>\n",
       "      <td>2635.116266</td>\n",
       "      <td>1</td>\n",
       "    </tr>\n",
       "    <tr>\n",
       "      <th>1</th>\n",
       "      <td>2013</td>\n",
       "      <td>1</td>\n",
       "      <td>5127</td>\n",
       "      <td>0</td>\n",
       "      <td>4</td>\n",
       "      <td>5643</td>\n",
       "      <td>2</td>\n",
       "      <td>2330.25</td>\n",
       "      <td>43</td>\n",
       "      <td>2539.082418</td>\n",
       "      <td>3</td>\n",
       "    </tr>\n",
       "    <tr>\n",
       "      <th>2</th>\n",
       "      <td>2013</td>\n",
       "      <td>1</td>\n",
       "      <td>5142</td>\n",
       "      <td>0</td>\n",
       "      <td>4</td>\n",
       "      <td>5821</td>\n",
       "      <td>35</td>\n",
       "      <td>599.00</td>\n",
       "      <td>162</td>\n",
       "      <td>822.133789</td>\n",
       "      <td>2</td>\n",
       "    </tr>\n",
       "    <tr>\n",
       "      <th>3</th>\n",
       "      <td>2013</td>\n",
       "      <td>1</td>\n",
       "      <td>5143</td>\n",
       "      <td>0</td>\n",
       "      <td>4</td>\n",
       "      <td>5822</td>\n",
       "      <td>35</td>\n",
       "      <td>999.00</td>\n",
       "      <td>162</td>\n",
       "      <td>1064.279381</td>\n",
       "      <td>9</td>\n",
       "    </tr>\n",
       "    <tr>\n",
       "      <th>4</th>\n",
       "      <td>2013</td>\n",
       "      <td>1</td>\n",
       "      <td>5152</td>\n",
       "      <td>0</td>\n",
       "      <td>4</td>\n",
       "      <td>5459</td>\n",
       "      <td>55</td>\n",
       "      <td>299.00</td>\n",
       "      <td>1105</td>\n",
       "      <td>330.464615</td>\n",
       "      <td>1</td>\n",
       "    </tr>\n",
       "    <tr>\n",
       "      <th>...</th>\n",
       "      <td>...</td>\n",
       "      <td>...</td>\n",
       "      <td>...</td>\n",
       "      <td>...</td>\n",
       "      <td>...</td>\n",
       "      <td>...</td>\n",
       "      <td>...</td>\n",
       "      <td>...</td>\n",
       "      <td>...</td>\n",
       "      <td>...</td>\n",
       "      <td>...</td>\n",
       "    </tr>\n",
       "    <tr>\n",
       "      <th>600154</th>\n",
       "      <td>2015</td>\n",
       "      <td>10</td>\n",
       "      <td>213962</td>\n",
       "      <td>33</td>\n",
       "      <td>45</td>\n",
       "      <td>16106</td>\n",
       "      <td>64</td>\n",
       "      <td>799.00</td>\n",
       "      <td>158</td>\n",
       "      <td>573.999197</td>\n",
       "      <td>1</td>\n",
       "    </tr>\n",
       "    <tr>\n",
       "      <th>600155</th>\n",
       "      <td>2015</td>\n",
       "      <td>10</td>\n",
       "      <td>214068</td>\n",
       "      <td>33</td>\n",
       "      <td>45</td>\n",
       "      <td>6184</td>\n",
       "      <td>30</td>\n",
       "      <td>498.00</td>\n",
       "      <td>1362</td>\n",
       "      <td>670.072416</td>\n",
       "      <td>1</td>\n",
       "    </tr>\n",
       "    <tr>\n",
       "      <th>600156</th>\n",
       "      <td>2015</td>\n",
       "      <td>10</td>\n",
       "      <td>214069</td>\n",
       "      <td>33</td>\n",
       "      <td>45</td>\n",
       "      <td>3985</td>\n",
       "      <td>55</td>\n",
       "      <td>98.00</td>\n",
       "      <td>1105</td>\n",
       "      <td>249.491071</td>\n",
       "      <td>1</td>\n",
       "    </tr>\n",
       "    <tr>\n",
       "      <th>600157</th>\n",
       "      <td>2015</td>\n",
       "      <td>10</td>\n",
       "      <td>214187</td>\n",
       "      <td>33</td>\n",
       "      <td>45</td>\n",
       "      <td>5401</td>\n",
       "      <td>19</td>\n",
       "      <td>799.00</td>\n",
       "      <td>677</td>\n",
       "      <td>1626.173585</td>\n",
       "      <td>1</td>\n",
       "    </tr>\n",
       "    <tr>\n",
       "      <th>600158</th>\n",
       "      <td>2015</td>\n",
       "      <td>10</td>\n",
       "      <td>214195</td>\n",
       "      <td>33</td>\n",
       "      <td>45</td>\n",
       "      <td>18454</td>\n",
       "      <td>55</td>\n",
       "      <td>99.00</td>\n",
       "      <td>1105</td>\n",
       "      <td>190.688337</td>\n",
       "      <td>1</td>\n",
       "    </tr>\n",
       "  </tbody>\n",
       "</table>\n",
       "<p>600159 rows × 11 columns</p>\n",
       "</div>"
      ]
     },
     "metadata": {},
     "execution_count": 47
    }
   ],
   "metadata": {}
  },
  {
   "cell_type": "markdown",
   "source": [
    "# Model 설명"
   ],
   "metadata": {}
  },
  {
   "cell_type": "markdown",
   "source": [
    "* MLP 구현"
   ],
   "metadata": {}
  },
  {
   "cell_type": "code",
   "execution_count": 48,
   "source": [
    "from tensorflow.keras.models import Sequential\r\n",
    "from tensorflow.keras.layers import Dense\r\n",
    "\r\n",
    "model = Sequential()\r\n",
    "model.add(Dense(32, input_dim=10, activation='relu'))\r\n",
    "model.add(Dense(32, activation='relu'))\r\n",
    "model.add(Dense(8, activation='sigmoid'))\r\n",
    "model.add(Dense(1))\r\n",
    "\r\n",
    "model.compile(loss=\"mean_squared_error\", optimizer='adam')\r\n",
    "model.summary()"
   ],
   "outputs": [
    {
     "output_type": "stream",
     "name": "stdout",
     "text": [
      "Model: \"sequential\"\n",
      "_________________________________________________________________\n",
      "Layer (type)                 Output Shape              Param #   \n",
      "=================================================================\n",
      "dense (Dense)                (None, 32)                352       \n",
      "_________________________________________________________________\n",
      "dense_1 (Dense)              (None, 32)                1056      \n",
      "_________________________________________________________________\n",
      "dense_2 (Dense)              (None, 8)                 264       \n",
      "_________________________________________________________________\n",
      "dense_3 (Dense)              (None, 1)                 9         \n",
      "=================================================================\n",
      "Total params: 1,681\n",
      "Trainable params: 1,681\n",
      "Non-trainable params: 0\n",
      "_________________________________________________________________\n"
     ]
    }
   ],
   "metadata": {}
  },
  {
   "cell_type": "markdown",
   "source": [
    "# train log 확인"
   ],
   "metadata": {}
  },
  {
   "cell_type": "code",
   "execution_count": 46,
   "source": [
    "with open('training_log3.txt', 'r') as f:\r\n",
    "    for line in f:\r\n",
    "        print(line)\r\n"
   ],
   "outputs": [
    {
     "output_type": "stream",
     "name": "stdout",
     "text": [
      "Epoch 1/50\n",
      "\n",
      "4689/4689 - 8s - loss: 126.9620\n",
      "\n",
      "\n",
      "\n",
      "Epoch 00001: saving model to ./Model_check_point\\final_checkpoint_20210712_2255.ckpt\n",
      "\n",
      "Epoch 2/50\n",
      "\n",
      "4689/4689 - 7s - loss: 123.5891\n",
      "\n",
      "\n",
      "\n",
      "Epoch 00002: saving model to ./Model_check_point\\final_checkpoint_20210712_2255.ckpt\n",
      "\n",
      "Epoch 3/50\n",
      "\n",
      "4689/4689 - 7s - loss: 119.9796\n",
      "\n",
      "\n",
      "\n",
      "Epoch 00003: saving model to ./Model_check_point\\final_checkpoint_20210712_2255.ckpt\n",
      "\n",
      "Epoch 4/50\n",
      "\n",
      "4689/4689 - 7s - loss: 116.6684\n",
      "\n",
      "\n",
      "\n",
      "Epoch 00004: saving model to ./Model_check_point\\final_checkpoint_20210712_2255.ckpt\n",
      "\n",
      "Epoch 5/50\n",
      "\n",
      "4689/4689 - 7s - loss: 113.2482\n",
      "\n",
      "\n",
      "\n",
      "Epoch 00005: saving model to ./Model_check_point\\final_checkpoint_20210712_2255.ckpt\n",
      "\n",
      "Epoch 6/50\n",
      "\n",
      "4689/4689 - 7s - loss: 110.2292\n",
      "\n",
      "\n",
      "\n",
      "Epoch 00006: saving model to ./Model_check_point\\final_checkpoint_20210712_2255.ckpt\n",
      "\n",
      "Epoch 7/50\n",
      "\n",
      "4689/4689 - 7s - loss: 107.5692\n",
      "\n",
      "\n",
      "\n",
      "Epoch 00007: saving model to ./Model_check_point\\final_checkpoint_20210712_2255.ckpt\n",
      "\n",
      "Epoch 8/50\n",
      "\n",
      "4689/4689 - 6s - loss: 105.1653\n",
      "\n",
      "\n",
      "\n",
      "Epoch 00008: saving model to ./Model_check_point\\final_checkpoint_20210712_2255.ckpt\n",
      "\n",
      "Epoch 9/50\n",
      "\n",
      "4689/4689 - 7s - loss: 102.9467\n",
      "\n",
      "\n",
      "\n",
      "Epoch 00009: saving model to ./Model_check_point\\final_checkpoint_20210712_2255.ckpt\n",
      "\n",
      "Epoch 10/50\n",
      "\n",
      "4689/4689 - 7s - loss: 100.9594\n",
      "\n",
      "\n",
      "\n",
      "Epoch 00010: saving model to ./Model_check_point\\final_checkpoint_20210712_2255.ckpt\n",
      "\n",
      "Epoch 11/50\n",
      "\n",
      "4689/4689 - 7s - loss: 98.9755\n",
      "\n",
      "\n",
      "\n",
      "Epoch 00011: saving model to ./Model_check_point\\final_checkpoint_20210712_2255.ckpt\n",
      "\n",
      "Epoch 12/50\n",
      "\n",
      "4689/4689 - 7s - loss: 97.2425\n",
      "\n",
      "\n",
      "\n",
      "Epoch 00012: saving model to ./Model_check_point\\final_checkpoint_20210712_2255.ckpt\n",
      "\n",
      "Epoch 13/50\n",
      "\n",
      "4689/4689 - 7s - loss: 95.6785\n",
      "\n",
      "\n",
      "\n",
      "Epoch 00013: saving model to ./Model_check_point\\final_checkpoint_20210712_2255.ckpt\n",
      "\n",
      "Epoch 14/50\n",
      "\n",
      "4689/4689 - 7s - loss: 94.4712\n",
      "\n",
      "\n",
      "\n",
      "Epoch 00014: saving model to ./Model_check_point\\final_checkpoint_20210712_2255.ckpt\n",
      "\n",
      "Epoch 15/50\n",
      "\n",
      "4689/4689 - 7s - loss: 93.1213\n",
      "\n",
      "\n",
      "\n",
      "Epoch 00015: saving model to ./Model_check_point\\final_checkpoint_20210712_2255.ckpt\n",
      "\n",
      "Epoch 16/50\n",
      "\n",
      "4689/4689 - 7s - loss: 91.9749\n",
      "\n",
      "\n",
      "\n",
      "Epoch 00016: saving model to ./Model_check_point\\final_checkpoint_20210712_2255.ckpt\n",
      "\n",
      "Epoch 17/50\n",
      "\n",
      "4689/4689 - 7s - loss: 91.3858\n",
      "\n",
      "\n",
      "\n",
      "Epoch 00017: saving model to ./Model_check_point\\final_checkpoint_20210712_2255.ckpt\n",
      "\n",
      "Epoch 18/50\n",
      "\n",
      "4689/4689 - 7s - loss: 90.6030\n",
      "\n",
      "\n",
      "\n",
      "Epoch 00018: saving model to ./Model_check_point\\final_checkpoint_20210712_2255.ckpt\n",
      "\n",
      "Epoch 19/50\n",
      "\n",
      "4689/4689 - 7s - loss: 89.4416\n",
      "\n",
      "\n",
      "\n",
      "Epoch 00019: saving model to ./Model_check_point\\final_checkpoint_20210712_2255.ckpt\n",
      "\n",
      "Epoch 20/50\n",
      "\n",
      "4689/4689 - 7s - loss: 89.0427\n",
      "\n",
      "\n",
      "\n",
      "Epoch 00020: saving model to ./Model_check_point\\final_checkpoint_20210712_2255.ckpt\n",
      "\n",
      "Epoch 21/50\n",
      "\n",
      "4689/4689 - 6s - loss: 88.1782\n",
      "\n",
      "\n",
      "\n",
      "Epoch 00021: saving model to ./Model_check_point\\final_checkpoint_20210712_2255.ckpt\n",
      "\n",
      "Epoch 22/50\n",
      "\n",
      "4689/4689 - 6s - loss: 87.3615\n",
      "\n",
      "\n",
      "\n",
      "Epoch 00022: saving model to ./Model_check_point\\final_checkpoint_20210712_2255.ckpt\n",
      "\n",
      "Epoch 23/50\n",
      "\n",
      "4689/4689 - 7s - loss: 87.0128\n",
      "\n",
      "\n",
      "\n",
      "Epoch 00023: saving model to ./Model_check_point\\final_checkpoint_20210712_2255.ckpt\n",
      "\n",
      "Epoch 24/50\n",
      "\n",
      "4689/4689 - 7s - loss: 86.3723\n",
      "\n",
      "\n",
      "\n",
      "Epoch 00024: saving model to ./Model_check_point\\final_checkpoint_20210712_2255.ckpt\n",
      "\n",
      "Epoch 25/50\n",
      "\n",
      "4689/4689 - 7s - loss: 85.2911\n",
      "\n",
      "\n",
      "\n",
      "Epoch 00025: saving model to ./Model_check_point\\final_checkpoint_20210712_2255.ckpt\n",
      "\n",
      "Epoch 26/50\n",
      "\n",
      "4689/4689 - 7s - loss: 85.0487\n",
      "\n",
      "\n",
      "\n",
      "Epoch 00026: saving model to ./Model_check_point\\final_checkpoint_20210712_2255.ckpt\n",
      "\n",
      "Epoch 27/50\n",
      "\n",
      "4689/4689 - 7s - loss: 85.2475\n",
      "\n",
      "\n",
      "\n",
      "Epoch 00027: saving model to ./Model_check_point\\final_checkpoint_20210712_2255.ckpt\n",
      "\n",
      "Epoch 28/50\n",
      "\n",
      "4689/4689 - 7s - loss: 84.2106\n",
      "\n",
      "\n",
      "\n",
      "Epoch 00028: saving model to ./Model_check_point\\final_checkpoint_20210712_2255.ckpt\n",
      "\n",
      "Epoch 29/50\n",
      "\n",
      "4689/4689 - 7s - loss: 83.4586\n",
      "\n",
      "\n",
      "\n",
      "Epoch 00029: saving model to ./Model_check_point\\final_checkpoint_20210712_2255.ckpt\n",
      "\n",
      "Epoch 30/50\n",
      "\n",
      "4689/4689 - 7s - loss: 83.3825\n",
      "\n",
      "\n",
      "\n",
      "Epoch 00030: saving model to ./Model_check_point\\final_checkpoint_20210712_2255.ckpt\n",
      "\n",
      "Epoch 31/50\n",
      "\n",
      "4689/4689 - 7s - loss: 82.9337\n",
      "\n",
      "\n",
      "\n",
      "Epoch 00031: saving model to ./Model_check_point\\final_checkpoint_20210712_2255.ckpt\n",
      "\n",
      "Epoch 32/50\n",
      "\n",
      "4689/4689 - 7s - loss: 82.3460\n",
      "\n",
      "\n",
      "\n",
      "Epoch 00032: saving model to ./Model_check_point\\final_checkpoint_20210712_2255.ckpt\n",
      "\n",
      "Epoch 33/50\n",
      "\n",
      "4689/4689 - 7s - loss: 82.1151\n",
      "\n",
      "\n",
      "\n",
      "Epoch 00033: saving model to ./Model_check_point\\final_checkpoint_20210712_2255.ckpt\n",
      "\n",
      "Epoch 34/50\n",
      "\n",
      "4689/4689 - 8s - loss: 81.1655\n",
      "\n",
      "\n",
      "\n",
      "Epoch 00034: saving model to ./Model_check_point\\final_checkpoint_20210712_2255.ckpt\n",
      "\n",
      "Epoch 35/50\n",
      "\n",
      "4689/4689 - 7s - loss: 81.0025\n",
      "\n",
      "\n",
      "\n",
      "Epoch 00035: saving model to ./Model_check_point\\final_checkpoint_20210712_2255.ckpt\n",
      "\n",
      "Epoch 36/50\n",
      "\n",
      "4689/4689 - 7s - loss: 80.0268\n",
      "\n",
      "\n",
      "\n",
      "Epoch 00036: saving model to ./Model_check_point\\final_checkpoint_20210712_2255.ckpt\n",
      "\n",
      "Epoch 37/50\n",
      "\n",
      "4689/4689 - 7s - loss: 80.7750\n",
      "\n",
      "\n",
      "\n",
      "Epoch 00037: saving model to ./Model_check_point\\final_checkpoint_20210712_2255.ckpt\n",
      "\n",
      "Epoch 38/50\n",
      "\n",
      "4689/4689 - 7s - loss: 79.6524\n",
      "\n",
      "\n",
      "\n",
      "Epoch 00038: saving model to ./Model_check_point\\final_checkpoint_20210712_2255.ckpt\n",
      "\n",
      "Epoch 39/50\n",
      "\n",
      "4689/4689 - 7s - loss: 80.3804\n",
      "\n",
      "\n",
      "\n",
      "Epoch 00039: saving model to ./Model_check_point\\final_checkpoint_20210712_2255.ckpt\n",
      "\n",
      "Epoch 40/50\n",
      "\n",
      "4689/4689 - 7s - loss: 79.3116\n",
      "\n",
      "\n",
      "\n",
      "Epoch 00040: saving model to ./Model_check_point\\final_checkpoint_20210712_2255.ckpt\n",
      "\n",
      "Epoch 41/50\n",
      "\n",
      "4689/4689 - 6s - loss: 80.0631\n",
      "\n",
      "\n",
      "\n",
      "Epoch 00041: saving model to ./Model_check_point\\final_checkpoint_20210712_2255.ckpt\n",
      "\n",
      "Epoch 42/50\n",
      "\n",
      "4689/4689 - 6s - loss: 78.8046\n",
      "\n",
      "\n",
      "\n",
      "Epoch 00042: saving model to ./Model_check_point\\final_checkpoint_20210712_2255.ckpt\n",
      "\n",
      "Epoch 43/50\n",
      "\n",
      "4689/4689 - 6s - loss: 79.1288\n",
      "\n",
      "\n",
      "\n",
      "Epoch 00043: saving model to ./Model_check_point\\final_checkpoint_20210712_2255.ckpt\n",
      "\n",
      "Epoch 44/50\n",
      "\n",
      "4689/4689 - 6s - loss: 77.5864\n",
      "\n",
      "\n",
      "\n",
      "Epoch 00044: saving model to ./Model_check_point\\final_checkpoint_20210712_2255.ckpt\n",
      "\n",
      "Epoch 45/50\n",
      "\n",
      "4689/4689 - 8s - loss: 78.6007\n",
      "\n",
      "\n",
      "\n",
      "Epoch 00045: saving model to ./Model_check_point\\final_checkpoint_20210712_2255.ckpt\n",
      "\n",
      "Epoch 46/50\n",
      "\n",
      "4689/4689 - 8s - loss: 77.6846\n",
      "\n",
      "\n",
      "\n",
      "Epoch 00046: saving model to ./Model_check_point\\final_checkpoint_20210712_2255.ckpt\n",
      "\n",
      "Epoch 47/50\n",
      "\n",
      "4689/4689 - 7s - loss: 77.9544\n",
      "\n",
      "\n",
      "\n",
      "Epoch 00047: saving model to ./Model_check_point\\final_checkpoint_20210712_2255.ckpt\n",
      "\n",
      "Epoch 48/50\n",
      "\n",
      "4689/4689 - 7s - loss: 76.7087\n",
      "\n",
      "\n",
      "\n",
      "Epoch 00048: saving model to ./Model_check_point\\final_checkpoint_20210712_2255.ckpt\n",
      "\n",
      "Epoch 49/50\n",
      "\n",
      "4689/4689 - 7s - loss: 77.3381\n",
      "\n",
      "\n",
      "\n",
      "Epoch 00049: saving model to ./Model_check_point\\final_checkpoint_20210712_2255.ckpt\n",
      "\n",
      "Epoch 50/50\n",
      "\n",
      "4689/4689 - 7s - loss: 76.7986\n",
      "\n",
      "\n",
      "\n",
      "Epoch 00050: saving model to ./Model_check_point\\final_checkpoint_20210712_2255.ckpt\n",
      "\n",
      "Mission Complete!!!\n",
      "\n"
     ]
    }
   ],
   "metadata": {}
  },
  {
   "cell_type": "markdown",
   "source": [
    "# 차후 개선 가능한 방향"
   ],
   "metadata": {}
  },
  {
   "cell_type": "markdown",
   "source": [
    "1. 데이터 전처리 개선\r\n",
    "    * feature 추가\r\n",
    "        * item_cnt의 월별 추이 정보를 담은 feature를 추가할 수 있음\r\n",
    "    * item_cnt가 0인 row 추가\r\n",
    "2. Model 구조 개선\r\n",
    "    * layer의 차원 수\r\n",
    "    * dropout -> 데이터 수가 적어서 개선이 안됨.\r\n",
    "    * MLP 외에 다른 Machine Learning 모델 활용가능 (ex : ARIMA, LR, RandomForest, etc...)"
   ],
   "metadata": {}
  },
  {
   "cell_type": "markdown",
   "source": [
    "# Finish"
   ],
   "metadata": {}
  },
  {
   "cell_type": "code",
   "execution_count": 49,
   "source": [
    "print('끝')"
   ],
   "outputs": [
    {
     "output_type": "stream",
     "name": "stdout",
     "text": [
      "끝\n"
     ]
    }
   ],
   "metadata": {}
  }
 ],
 "metadata": {
  "kernelspec": {
   "display_name": "Python 3",
   "language": "python",
   "name": "python3"
  },
  "language_info": {
   "codemirror_mode": {
    "name": "ipython",
    "version": 3
   },
   "file_extension": ".py",
   "mimetype": "text/x-python",
   "name": "python",
   "nbconvert_exporter": "python",
   "pygments_lexer": "ipython3",
   "version": "3.8.5"
  }
 },
 "nbformat": 4,
 "nbformat_minor": 4
}